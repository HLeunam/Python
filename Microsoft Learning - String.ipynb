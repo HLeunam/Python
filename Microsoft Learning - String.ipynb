{
 "cells": [
  {
   "cell_type": "markdown",
   "metadata": {},
   "source": [
    "## Treinamento Microsoft"
   ]
  },
  {
   "cell_type": "code",
   "execution_count": 1,
   "metadata": {},
   "outputs": [
    {
     "name": "stdout",
     "output_type": "stream",
     "text": [
      "A Lua não possui atmosfera\n"
     ]
    }
   ],
   "source": [
    "fato = \"A Lua não possui atmosfera\"\n",
    "print(fato)"
   ]
  },
  {
   "cell_type": "code",
   "execution_count": 3,
   "metadata": {},
   "outputs": [
    {
     "name": "stdout",
     "output_type": "stream",
     "text": [
      "A lua não possui atmosfera.Nenhum som pode ser ouvido da Lua\n"
     ]
    }
   ],
   "source": [
    "fato = \"A lua não possui atmosfera.\" + \"Nenhum som pode ser ouvido da Lua\"\n",
    "print(fato)"
   ]
  },
  {
   "cell_type": "code",
   "execution_count": 11,
   "metadata": {},
   "outputs": [
    {
     "name": "stdout",
     "output_type": "stream",
     "text": [
      "A Lua não possui atmosfera. Nenhum som pode ser escutado da Lua\n"
     ]
    }
   ],
   "source": [
    "fato = \"A Lua não possui atmosfera.\"\n",
    "fato_dois = fato + \" Nenhum som pode ser escutado da Lua\"\n",
    "print(fato_dois)"
   ]
  },
  {
   "cell_type": "code",
   "execution_count": 13,
   "metadata": {},
   "outputs": [
    {
     "name": "stdout",
     "output_type": "stream",
     "text": [
      "The \"near side\" is the part of the Moon that faces the Earth.\n"
     ]
    }
   ],
   "source": [
    "radio_lua = 'The \"near side\" is the part of the Moon that faces the Earth.'\n",
    "print(radio_lua)"
   ]
  },
  {
   "cell_type": "code",
   "execution_count": 14,
   "metadata": {},
   "outputs": [
    {
     "name": "stdout",
     "output_type": "stream",
     "text": [
      "Nós só enxergamos 60% da superfície da Lua\n"
     ]
    }
   ],
   "source": [
    "Exemplo = \"Nós só enxergamos 60% da superfície da Lua\"\n",
    "print(Exemplo)"
   ]
  },
  {
   "cell_type": "code",
   "execution_count": 15,
   "metadata": {},
   "outputs": [
    {
     "name": "stdout",
     "output_type": "stream",
     "text": [
      "Facts about the Moon:\n",
      " There is no atmosphere.\n",
      " There is no sound.\n"
     ]
    }
   ],
   "source": [
    "multilinha = \"Facts about the Moon:\\n There is no atmosphere.\\n There is no sound.\"\n",
    "print(multilinha)"
   ]
  },
  {
   "cell_type": "code",
   "execution_count": 16,
   "metadata": {},
   "outputs": [
    {
     "name": "stdout",
     "output_type": "stream",
     "text": [
      "Temperatures And Facts About The Moon\n"
     ]
    }
   ],
   "source": [
    "print(\"temperatures and facts about the moon\".title())"
   ]
  },
  {
   "cell_type": "code",
   "execution_count": 17,
   "metadata": {},
   "outputs": [
    {
     "name": "stdout",
     "output_type": "stream",
     "text": [
      "Temperatures And Facts About The Moon\n"
     ]
    }
   ],
   "source": [
    "# O .title() coloca as iniciais das palavras em letra maiúscula.\n",
    "heading = \"temperatures and facts about the moon\"\n",
    "heading_upper = heading.title()\n",
    "print(heading_upper)"
   ]
  },
  {
   "cell_type": "code",
   "execution_count": 19,
   "metadata": {},
   "outputs": [
    {
     "name": "stdout",
     "output_type": "stream",
     "text": [
      "['Daylight:', '260', 'F', 'Nighttime:', '-280', 'F']\n"
     ]
    }
   ],
   "source": [
    "# O .split() separa a cadeia de caracteres em cada espaço.\n",
    "temperatures = \"Daylight: 260 F Nighttime: -280 F\"\n",
    "temperatures_list = temperatures.split()\n",
    "print(temperatures_list)"
   ]
  },
  {
   "cell_type": "code",
   "execution_count": 20,
   "metadata": {},
   "outputs": [
    {
     "name": "stdout",
     "output_type": "stream",
     "text": [
      "['Daylight: 260 F', ' Nighttime: -280 F']\n"
     ]
    }
   ],
   "source": [
    "temperatures = \"Daylight: 260 F\\n Nighttime: -280 F\"\n",
    "temperatures_list = temperatures.split('\\n')\n",
    "print(temperatures_list)"
   ]
  },
  {
   "cell_type": "code",
   "execution_count": 21,
   "metadata": {},
   "outputs": [
    {
     "name": "stdout",
     "output_type": "stream",
     "text": [
      "False\n"
     ]
    }
   ],
   "source": [
    "print(\"Moon\" in \"This text will describe facts and challenges with space travel\")"
   ]
  },
  {
   "cell_type": "code",
   "execution_count": 22,
   "metadata": {},
   "outputs": [
    {
     "name": "stdout",
     "output_type": "stream",
     "text": [
      "True\n"
     ]
    }
   ],
   "source": [
    "print(\"Moon\" in \"This text will describe facts about the Moon\")"
   ]
  },
  {
   "cell_type": "code",
   "execution_count": 24,
   "metadata": {},
   "outputs": [
    {
     "name": "stdout",
     "output_type": "stream",
     "text": [
      "-1\n"
     ]
    }
   ],
   "source": [
    "temperatures = \"\"\"Saturn has a daytime temperature of -170 degrees Celsius, while Mars has -23 Celsius.\"\"\"\n",
    "print(temperatures.find(\"Moon\"))"
   ]
  },
  {
   "cell_type": "code",
   "execution_count": 25,
   "metadata": {},
   "outputs": [
    {
     "data": {
      "text/plain": [
       "64"
      ]
     },
     "execution_count": 25,
     "metadata": {},
     "output_type": "execute_result"
    }
   ],
   "source": [
    "# Função .find para procurar palavras em conjunto de caractéres.\n",
    "temperatures = \"\"\"Saturn has a daytime temperature of -170 degrees Calsius, while Mars has -28 Celsius.\"\"\"\n",
    "temperatures.find(\"Mars\")"
   ]
  },
  {
   "cell_type": "code",
   "execution_count": 26,
   "metadata": {},
   "outputs": [
    {
     "name": "stdout",
     "output_type": "stream",
     "text": [
      "1\n",
      "0\n"
     ]
    }
   ],
   "source": [
    "# Método .count() retorna o número total de ocorrências de uma determinada palavra na cadeia de caracteres.\n",
    "\n",
    "temperatures = \"Saturn has a daytime temperature of -170 degrees Celsius, while Mars has -28 Celsius.\"\n",
    "print(temperatures.count(\"Mars\"))\n",
    "print(temperatures.count(\"Moon\"))"
   ]
  },
  {
   "cell_type": "code",
   "execution_count": 27,
   "metadata": {},
   "outputs": [
    {
     "name": "stdout",
     "output_type": "stream",
     "text": [
      "the moon and the earth\n"
     ]
    }
   ],
   "source": [
    "# Função lower para colocar as letras em tamanho minúsculo.\n",
    "print(\"The Moon And The Earth\".lower())"
   ]
  },
  {
   "cell_type": "code",
   "execution_count": 28,
   "metadata": {},
   "outputs": [
    {
     "name": "stdout",
     "output_type": "stream",
     "text": [
      "THE MOON AND THE EARTH\n"
     ]
    }
   ],
   "source": [
    "# Função upper para converter letras em maiúscula.\n",
    "print(\"The Moon And The Earth\".upper())"
   ]
  },
  {
   "cell_type": "code",
   "execution_count": 30,
   "metadata": {},
   "outputs": [
    {
     "name": "stdout",
     "output_type": "stream",
     "text": [
      "['Mars Average Temperature', ' -60 C']\n",
      " -60 C\n"
     ]
    }
   ],
   "source": [
    "temperatures = \"Mars Average Temperature: -60 C\"\n",
    "temperatures = \"Mars Average Temperature: -60 C\"\n",
    "parts = temperatures.split(\":\")\n",
    "print(parts)\n",
    "print(parts[-1]) # Retorna o último item, que é a temperatura nesse caso."
   ]
  },
  {
   "cell_type": "code",
   "execution_count": 32,
   "metadata": {},
   "outputs": [
    {
     "name": "stdout",
     "output_type": "stream",
     "text": [
      "30\n"
     ]
    }
   ],
   "source": [
    "mars_temperature = \"The highest temperature on Mars is about 30 C\"\n",
    "for item in mars_temperature.split():\n",
    "    if item.isnumeric():\n",
    "        print(item)"
   ]
  },
  {
   "cell_type": "code",
   "execution_count": 33,
   "metadata": {},
   "outputs": [
    {
     "name": "stdout",
     "output_type": "stream",
     "text": [
      "True\n"
     ]
    }
   ],
   "source": [
    "print(\"-60\".startswith('-'))"
   ]
  },
  {
   "cell_type": "code",
   "execution_count": 34,
   "metadata": {},
   "outputs": [
    {
     "name": "stdout",
     "output_type": "stream",
     "text": [
      "This temperature is in Celsius\n"
     ]
    }
   ],
   "source": [
    "if \"30 C\".endswith(\"C\"):\n",
    "    print(\"This temperature is in Celsius\")"
   ]
  },
  {
   "cell_type": "code",
   "execution_count": 36,
   "metadata": {},
   "outputs": [
    {
     "name": "stdout",
     "output_type": "stream",
     "text": [
      "The Moon is drifiting away from the Earth. On average, the Moon is moving about 4cm every year.\n"
     ]
    }
   ],
   "source": [
    "moon_facts = [\"The Moon is drifiting away from the Earth. \", \"On average, the Moon is moving about 4cm every year.\"]\n",
    "print(''.join(moon_facts))"
   ]
  },
  {
   "cell_type": "markdown",
   "metadata": {},
   "source": [
    "### Formatação do sinal de porcentagem (%)"
   ]
  },
  {
   "cell_type": "code",
   "execution_count": 41,
   "metadata": {},
   "outputs": [
    {
     "name": "stdout",
     "output_type": "stream",
     "text": [
      "On the Moon, you would weigh about 1/6 of your weight on Earth.\n"
     ]
    }
   ],
   "source": [
    "mass_percentage = \"1/6\"\n",
    "print(\"On the Moon, you would weigh about %s of your weight on Earth.\" % mass_percentage)"
   ]
  },
  {
   "cell_type": "code",
   "execution_count": 43,
   "metadata": {},
   "outputs": [
    {
     "name": "stdout",
     "output_type": "stream",
     "text": [
      "Both sides of the Moon get the same amount of sunlight, but only one side is seen from Earth because the Moon rotates around its own axis when it orbits Earth.\n"
     ]
    }
   ],
   "source": [
    "print(\"\"\"Both sides of the %s get the same amount of sunlight, but only one side is seen from %s because the %s rotates around its own axis when it orbits %s.\"\"\" % (\"Moon\",\"Earth\",\"Moon\",\"Earth\"))"
   ]
  },
  {
   "cell_type": "markdown",
   "metadata": {},
   "source": [
    "## O Método format()"
   ]
  },
  {
   "cell_type": "code",
   "execution_count": 45,
   "metadata": {},
   "outputs": [
    {
     "name": "stdout",
     "output_type": "stream",
     "text": [
      "On the Moon, you would weigh about 1/6 of your weight on Earth\n"
     ]
    }
   ],
   "source": [
    "mass_percentage = \"1/6\"\n",
    "print(\"On the Moon, you would weigh about {} of your weight on Earth\".format(mass_percentage))"
   ]
  },
  {
   "cell_type": "code",
   "execution_count": 46,
   "metadata": {},
   "outputs": [
    {
     "name": "stdout",
     "output_type": "stream",
     "text": [
      "You are lighter on the Moon, because on the Moon you would weigh about 1/6 of your weight on Earth.\n"
     ]
    }
   ],
   "source": [
    "# Nesse exemplo, o format utiliza 0 = \"Moon\" e 1 = \"1/6\"\n",
    "mass_percentage = \"1/6\"\n",
    "print(\"You are lighter on the {0}, because on the {0} you would weigh about {1} of your weight on Earth.\".format(\"Moon\",mass_percentage))"
   ]
  },
  {
   "cell_type": "code",
   "execution_count": 48,
   "metadata": {},
   "outputs": [
    {
     "name": "stdout",
     "output_type": "stream",
     "text": [
      "You are ligther on the Moon, because on the Moon you would weigh about 1/6 of your weigh on Earth.\n"
     ]
    }
   ],
   "source": [
    "mass_percentage = \"1/6\"\n",
    "print(\"You are ligther on the {moon}, because on the {moon} you would weigh about {mass} of your weigh on Earth.\".format(moon=\"Moon\",mass=mass_percentage))"
   ]
  },
  {
   "cell_type": "code",
   "execution_count": 49,
   "metadata": {},
   "outputs": [
    {
     "name": "stdout",
     "output_type": "stream",
     "text": [
      "On the Moon, you would weigh about 1/6 of your weight on Earth\n"
     ]
    }
   ],
   "source": [
    "print(f\"On the Moon, you would weigh about {mass_percentage} of your weight on Earth\")"
   ]
  },
  {
   "cell_type": "code",
   "execution_count": 50,
   "metadata": {},
   "outputs": [
    {
     "name": "stdout",
     "output_type": "stream",
     "text": [
      "16.7\n"
     ]
    }
   ],
   "source": [
    "print(round(100/6,1))"
   ]
  },
  {
   "cell_type": "code",
   "execution_count": 52,
   "metadata": {},
   "outputs": [
    {
     "name": "stdout",
     "output_type": "stream",
     "text": [
      "On the Moon, you would weigh about 16.7% of your weight on Earth\n"
     ]
    }
   ],
   "source": [
    "print(f\"On the Moon, you would weigh about {round(100/6, 1)}% of your weight on Earth\")"
   ]
  },
  {
   "cell_type": "code",
   "execution_count": 53,
   "metadata": {},
   "outputs": [
    {
     "name": "stdout",
     "output_type": "stream",
     "text": [
      "Interesting Facts About The Moon\n"
     ]
    }
   ],
   "source": [
    "subject = \"interesting facts about the moon\"\n",
    "heading = f\"{subject.title()}\"\n",
    "print(heading)"
   ]
  },
  {
   "cell_type": "code",
   "execution_count": null,
   "metadata": {},
   "outputs": [],
   "source": []
  }
 ],
 "metadata": {
  "kernelspec": {
   "display_name": "base",
   "language": "python",
   "name": "python3"
  },
  "language_info": {
   "codemirror_mode": {
    "name": "ipython",
    "version": 3
   },
   "file_extension": ".py",
   "mimetype": "text/x-python",
   "name": "python",
   "nbconvert_exporter": "python",
   "pygments_lexer": "ipython3",
   "version": "3.11.5"
  }
 },
 "nbformat": 4,
 "nbformat_minor": 2
}
