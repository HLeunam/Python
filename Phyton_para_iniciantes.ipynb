{
  "nbformat": 4,
  "nbformat_minor": 0,
  "metadata": {
    "colab": {
      "provenance": [],
      "authorship_tag": "ABX9TyNnkBPMGqXTvh0Q1lut8i6i",
      "include_colab_link": true
    },
    "kernelspec": {
      "name": "python3",
      "display_name": "Python 3"
    },
    "language_info": {
      "name": "python"
    }
  },
  "cells": [
    {
      "cell_type": "markdown",
      "metadata": {
        "id": "view-in-github",
        "colab_type": "text"
      },
      "source": [
        "<a href=\"https://colab.research.google.com/github/HLeunam/HLeunam/blob/main/Phyton_para_iniciantes.ipynb\" target=\"_parent\"><img src=\"https://colab.research.google.com/assets/colab-badge.svg\" alt=\"Open In Colab\"/></a>"
      ]
    },
    {
      "cell_type": "code",
      "execution_count": null,
      "metadata": {
        "id": "CSg7S0wlMDjP"
      },
      "outputs": [],
      "source": []
    },
    {
      "cell_type": "markdown",
      "source": [
        "# Seção 1\n",
        "\n"
      ],
      "metadata": {
        "id": "VFRXxWmxML92"
      }
    },
    {
      "cell_type": "code",
      "source": [
        "nome = \"Henrique\"\n",
        "sobrenome = \"Leunam\"\n",
        "NomeCompleto = nome + \" \" + sobrenome\n",
        "print(NomeCompleto)"
      ],
      "metadata": {
        "colab": {
          "base_uri": "https://localhost:8080/"
        },
        "id": "-uRs9UpXMPYn",
        "outputId": "d43eef43-0442-49f2-c741-10fbaa4a2e08"
      },
      "execution_count": null,
      "outputs": [
        {
          "output_type": "stream",
          "name": "stdout",
          "text": [
            "Henrique Leunam\n"
          ]
        }
      ]
    },
    {
      "cell_type": "code",
      "source": [
        "print (3*4)"
      ],
      "metadata": {
        "colab": {
          "base_uri": "https://localhost:8080/"
        },
        "id": "41Pi36fjMU_w",
        "outputId": "1904e4ac-356b-4dfc-fb13-a9eac45dbd83"
      },
      "execution_count": null,
      "outputs": [
        {
          "output_type": "stream",
          "name": "stdout",
          "text": [
            "12\n"
          ]
        }
      ]
    },
    {
      "cell_type": "code",
      "source": [
        "carro = \"Gol\"\n",
        "ano = 2013\n",
        "motor = 1.6\n",
        "\n",
        "print(\"O carro é do modelo\", carro,\"do ano\", ano, \"com um motor\", motor)\n"
      ],
      "metadata": {
        "colab": {
          "base_uri": "https://localhost:8080/"
        },
        "id": "fCTmd6I-MmXc",
        "outputId": "d263547e-c88e-45f6-82b9-0b75bf11f225"
      },
      "execution_count": null,
      "outputs": [
        {
          "output_type": "stream",
          "name": "stdout",
          "text": [
            "O carro é do modelo Gol do ano 2013 com um motor 1.6\n"
          ]
        }
      ]
    },
    {
      "cell_type": "code",
      "source": [],
      "metadata": {
        "id": "YuJceQbIMpaM"
      },
      "execution_count": null,
      "outputs": []
    },
    {
      "cell_type": "markdown",
      "source": [
        "# Variáveis"
      ],
      "metadata": {
        "id": "XSzbRX16M-mo"
      }
    },
    {
      "cell_type": "code",
      "source": [
        "produto = \"mouse\"\n",
        "preço = 2.25\n",
        "quantidade = 3\n",
        "\n",
        "total = preço * quantidade\n",
        "print(produto, total)"
      ],
      "metadata": {
        "colab": {
          "base_uri": "https://localhost:8080/"
        },
        "id": "LJWWsB0uNEqY",
        "outputId": "90f0a7e6-2b11-4370-bebf-e644b4218e4b"
      },
      "execution_count": null,
      "outputs": [
        {
          "output_type": "stream",
          "name": "stdout",
          "text": [
            "mouse 6.75\n"
          ]
        }
      ]
    },
    {
      "cell_type": "code",
      "source": [
        "A = 1\n",
        "a = 10\n",
        "\n",
        "print (A)\n",
        "print (a)"
      ],
      "metadata": {
        "colab": {
          "base_uri": "https://localhost:8080/"
        },
        "id": "r3rN9dEmNoJk",
        "outputId": "ba8e0994-7b4d-4f44-caec-588039ba9383"
      },
      "execution_count": null,
      "outputs": [
        {
          "output_type": "stream",
          "name": "stdout",
          "text": [
            "1\n",
            "10\n"
          ]
        }
      ]
    },
    {
      "cell_type": "code",
      "source": [
        "import keyword"
      ],
      "metadata": {
        "id": "BPG4j0roNxSk"
      },
      "execution_count": null,
      "outputs": []
    },
    {
      "cell_type": "code",
      "source": [
        "keyword.kwlist"
      ],
      "metadata": {
        "colab": {
          "base_uri": "https://localhost:8080/"
        },
        "id": "k5hldHE8PGbG",
        "outputId": "b1ac7a6b-1ac1-475a-a11a-c889243f2b2b"
      },
      "execution_count": null,
      "outputs": [
        {
          "output_type": "execute_result",
          "data": {
            "text/plain": [
              "['False',\n",
              " 'None',\n",
              " 'True',\n",
              " 'and',\n",
              " 'as',\n",
              " 'assert',\n",
              " 'async',\n",
              " 'await',\n",
              " 'break',\n",
              " 'class',\n",
              " 'continue',\n",
              " 'def',\n",
              " 'del',\n",
              " 'elif',\n",
              " 'else',\n",
              " 'except',\n",
              " 'finally',\n",
              " 'for',\n",
              " 'from',\n",
              " 'global',\n",
              " 'if',\n",
              " 'import',\n",
              " 'in',\n",
              " 'is',\n",
              " 'lambda',\n",
              " 'nonlocal',\n",
              " 'not',\n",
              " 'or',\n",
              " 'pass',\n",
              " 'raise',\n",
              " 'return',\n",
              " 'try',\n",
              " 'while',\n",
              " 'with',\n",
              " 'yield']"
            ]
          },
          "metadata": {},
          "execution_count": 16
        }
      ]
    },
    {
      "cell_type": "code",
      "source": [],
      "metadata": {
        "id": "J9Y7M-ZTPMK-"
      },
      "execution_count": null,
      "outputs": []
    },
    {
      "cell_type": "markdown",
      "source": [
        "# Tipo de Dados\n"
      ],
      "metadata": {
        "id": "2at-mKT1PqwC"
      }
    },
    {
      "cell_type": "code",
      "source": [
        "mes = \"janeiro\"\n",
        "type(mes)"
      ],
      "metadata": {
        "colab": {
          "base_uri": "https://localhost:8080/"
        },
        "id": "nMmO28GlPtLP",
        "outputId": "1398f981-0a7e-4c4d-c318-dd1e93b8b28e"
      },
      "execution_count": null,
      "outputs": [
        {
          "output_type": "execute_result",
          "data": {
            "text/plain": [
              "str"
            ]
          },
          "metadata": {},
          "execution_count": 17
        }
      ]
    },
    {
      "cell_type": "code",
      "source": [
        "numero = 10\n",
        "type(numero)"
      ],
      "metadata": {
        "colab": {
          "base_uri": "https://localhost:8080/"
        },
        "id": "8ibBIV02P4S7",
        "outputId": "2d1c52fe-a660-4e94-8ab0-fb74bd0bc933"
      },
      "execution_count": null,
      "outputs": [
        {
          "output_type": "execute_result",
          "data": {
            "text/plain": [
              "int"
            ]
          },
          "metadata": {},
          "execution_count": 18
        }
      ]
    },
    {
      "cell_type": "code",
      "source": [
        "numero2 = 8.25\n",
        "type(numero2)"
      ],
      "metadata": {
        "colab": {
          "base_uri": "https://localhost:8080/"
        },
        "id": "h7k_9WdhP9t_",
        "outputId": "ce400184-6823-4154-ce34-370c371a5769"
      },
      "execution_count": null,
      "outputs": [
        {
          "output_type": "execute_result",
          "data": {
            "text/plain": [
              "float"
            ]
          },
          "metadata": {},
          "execution_count": 20
        }
      ]
    },
    {
      "cell_type": "code",
      "source": [
        "a = 5\n",
        "b = 10\n",
        "c = 5\n",
        "\n",
        "a > b"
      ],
      "metadata": {
        "colab": {
          "base_uri": "https://localhost:8080/"
        },
        "id": "ci3fQb4pQFyP",
        "outputId": "3f9f3063-17c0-4dfd-d4fa-aa70e3fc05c8"
      },
      "execution_count": null,
      "outputs": [
        {
          "output_type": "execute_result",
          "data": {
            "text/plain": [
              "False"
            ]
          },
          "metadata": {},
          "execution_count": 21
        }
      ]
    },
    {
      "cell_type": "code",
      "source": [
        "c < b"
      ],
      "metadata": {
        "colab": {
          "base_uri": "https://localhost:8080/"
        },
        "id": "72w9HahuQOns",
        "outputId": "21ad9219-bd69-4c6f-a10e-1d6cb07e642e"
      },
      "execution_count": null,
      "outputs": [
        {
          "output_type": "execute_result",
          "data": {
            "text/plain": [
              "True"
            ]
          },
          "metadata": {},
          "execution_count": 22
        }
      ]
    },
    {
      "cell_type": "code",
      "source": [
        "comparacao = 10 == 8\n",
        "type(comparacao)\n"
      ],
      "metadata": {
        "colab": {
          "base_uri": "https://localhost:8080/"
        },
        "id": "fVaYDuDQQQqk",
        "outputId": "3ad6e74c-b6f6-48f0-a352-84d64c94a8be"
      },
      "execution_count": null,
      "outputs": [
        {
          "output_type": "execute_result",
          "data": {
            "text/plain": [
              "bool"
            ]
          },
          "metadata": {},
          "execution_count": 24
        }
      ]
    },
    {
      "cell_type": "code",
      "source": [
        "comparacao = 10 == 8\n",
        "print(comparacao)"
      ],
      "metadata": {
        "colab": {
          "base_uri": "https://localhost:8080/"
        },
        "id": "upKQy6YXQYXs",
        "outputId": "8c362fc3-7e93-4342-8971-63e797f6fe3c"
      },
      "execution_count": null,
      "outputs": [
        {
          "output_type": "stream",
          "name": "stdout",
          "text": [
            "False\n"
          ]
        }
      ]
    },
    {
      "cell_type": "code",
      "source": [],
      "metadata": {
        "id": "hILylM5VQfgy"
      },
      "execution_count": null,
      "outputs": []
    },
    {
      "cell_type": "markdown",
      "source": [
        "# Operadores Aritméticos\n"
      ],
      "metadata": {
        "id": "1nlkSPP0QqbJ"
      }
    },
    {
      "cell_type": "code",
      "source": [
        " soma = 13.4 + 23.2\n",
        " print(soma)"
      ],
      "metadata": {
        "colab": {
          "base_uri": "https://localhost:8080/"
        },
        "id": "1bJW0CXiQvP9",
        "outputId": "474cd906-8221-41ff-c443-f7d330ccd578"
      },
      "execution_count": null,
      "outputs": [
        {
          "output_type": "stream",
          "name": "stdout",
          "text": [
            "36.6\n"
          ]
        }
      ]
    },
    {
      "cell_type": "code",
      "source": [
        "subtracao = 120 - 59\n",
        "print(subtracao)"
      ],
      "metadata": {
        "colab": {
          "base_uri": "https://localhost:8080/"
        },
        "id": "pQpmGKVxROT_",
        "outputId": "35e28a58-75c9-4d82-91a0-6776fa66b5f8"
      },
      "execution_count": null,
      "outputs": [
        {
          "output_type": "stream",
          "name": "stdout",
          "text": [
            "61\n"
          ]
        }
      ]
    },
    {
      "cell_type": "code",
      "source": [
        "multiplicacao = 18 * 5\n",
        "print(multiplicacao)"
      ],
      "metadata": {
        "colab": {
          "base_uri": "https://localhost:8080/"
        },
        "id": "PTZCq4ebRSJu",
        "outputId": "58d1a42b-55c1-4adf-b9a5-523c24f6d716"
      },
      "execution_count": null,
      "outputs": [
        {
          "output_type": "stream",
          "name": "stdout",
          "text": [
            "90\n"
          ]
        }
      ]
    },
    {
      "cell_type": "code",
      "source": [
        "divisao = 160/4\n",
        "print(divisao)"
      ],
      "metadata": {
        "colab": {
          "base_uri": "https://localhost:8080/"
        },
        "id": "nlH5Zg0RRYia",
        "outputId": "672c474b-7a17-4485-cc9b-46a6f7125618"
      },
      "execution_count": null,
      "outputs": [
        {
          "output_type": "stream",
          "name": "stdout",
          "text": [
            "40.0\n"
          ]
        }
      ]
    },
    {
      "cell_type": "code",
      "source": [
        " potencia = 4 ** 2\n",
        " print(potencia)"
      ],
      "metadata": {
        "colab": {
          "base_uri": "https://localhost:8080/"
        },
        "id": "Ls_H21xwRcR6",
        "outputId": "280614aa-90d4-4cda-8445-6767215e5267"
      },
      "execution_count": null,
      "outputs": [
        {
          "output_type": "stream",
          "name": "stdout",
          "text": [
            "16\n"
          ]
        }
      ]
    },
    {
      "cell_type": "code",
      "source": [
        "pow(4,3)"
      ],
      "metadata": {
        "colab": {
          "base_uri": "https://localhost:8080/"
        },
        "id": "2_lrbLoQRvbf",
        "outputId": "33c68268-9835-45c9-8dc2-6839d1a1c849"
      },
      "execution_count": null,
      "outputs": [
        {
          "output_type": "execute_result",
          "data": {
            "text/plain": [
              "64"
            ]
          },
          "metadata": {},
          "execution_count": 32
        }
      ]
    },
    {
      "cell_type": "code",
      "source": [
        "divisaoInteira = 22//5\n",
        "print(divisaoInteira)"
      ],
      "metadata": {
        "colab": {
          "base_uri": "https://localhost:8080/"
        },
        "id": "3Rm-qNPhRypG",
        "outputId": "160f2e31-1f02-4389-f4ce-dc129e19b6bf"
      },
      "execution_count": null,
      "outputs": [
        {
          "output_type": "stream",
          "name": "stdout",
          "text": [
            "4\n"
          ]
        }
      ]
    },
    {
      "cell_type": "code",
      "source": [
        "modulo = 22 % 5\n",
        "print(modulo)"
      ],
      "metadata": {
        "colab": {
          "base_uri": "https://localhost:8080/"
        },
        "id": "uNNtC3V5R30u",
        "outputId": "c20c44b6-986d-4cd3-84de-265fe293cda8"
      },
      "execution_count": null,
      "outputs": [
        {
          "output_type": "stream",
          "name": "stdout",
          "text": [
            "2\n"
          ]
        }
      ]
    },
    {
      "cell_type": "code",
      "source": [],
      "metadata": {
        "id": "PJwyghSzR_S9"
      },
      "execution_count": null,
      "outputs": []
    },
    {
      "cell_type": "markdown",
      "source": [
        "# Ordem de Precedência em Cálculos"
      ],
      "metadata": {
        "id": "aHzacPfuSOs1"
      }
    },
    {
      "cell_type": "code",
      "source": [
        "3 + 2 * 2"
      ],
      "metadata": {
        "colab": {
          "base_uri": "https://localhost:8080/"
        },
        "id": "qqAAKpT0SRzR",
        "outputId": "22a021c2-f787-4974-fd32-9532a387c322"
      },
      "execution_count": null,
      "outputs": [
        {
          "output_type": "execute_result",
          "data": {
            "text/plain": [
              "7"
            ]
          },
          "metadata": {},
          "execution_count": 35
        }
      ]
    },
    {
      "cell_type": "code",
      "source": [
        "(3+2) * 2"
      ],
      "metadata": {
        "colab": {
          "base_uri": "https://localhost:8080/"
        },
        "id": "drCyX8ZqST9e",
        "outputId": "4bcd0e9d-8ec2-4767-ae50-4af10a6d976f"
      },
      "execution_count": null,
      "outputs": [
        {
          "output_type": "execute_result",
          "data": {
            "text/plain": [
              "10"
            ]
          },
          "metadata": {},
          "execution_count": 36
        }
      ]
    },
    {
      "cell_type": "code",
      "source": [
        "3 ** 2 + 1"
      ],
      "metadata": {
        "colab": {
          "base_uri": "https://localhost:8080/"
        },
        "id": "oukjdg5bSWS9",
        "outputId": "6d716afd-ede2-4197-9761-409b077fd783"
      },
      "execution_count": null,
      "outputs": [
        {
          "output_type": "execute_result",
          "data": {
            "text/plain": [
              "10"
            ]
          },
          "metadata": {},
          "execution_count": 37
        }
      ]
    },
    {
      "cell_type": "code",
      "source": [
        "3 ** (2+1)"
      ],
      "metadata": {
        "colab": {
          "base_uri": "https://localhost:8080/"
        },
        "id": "TLRbI3jRSc5W",
        "outputId": "723ae496-2068-40f3-e024-477f570d561e"
      },
      "execution_count": null,
      "outputs": [
        {
          "output_type": "execute_result",
          "data": {
            "text/plain": [
              "27"
            ]
          },
          "metadata": {},
          "execution_count": 38
        }
      ]
    },
    {
      "cell_type": "code",
      "source": [
        "3 * 4 + 7"
      ],
      "metadata": {
        "colab": {
          "base_uri": "https://localhost:8080/"
        },
        "id": "_ZmC4smgSgbF",
        "outputId": "c344f0d0-dff5-4601-b71f-37d5fa5055e6"
      },
      "execution_count": null,
      "outputs": [
        {
          "output_type": "execute_result",
          "data": {
            "text/plain": [
              "19"
            ]
          },
          "metadata": {},
          "execution_count": 39
        }
      ]
    },
    {
      "cell_type": "code",
      "source": [
        "5/2*4"
      ],
      "metadata": {
        "colab": {
          "base_uri": "https://localhost:8080/"
        },
        "id": "KKwfPRqVSo9_",
        "outputId": "00e26787-148b-433d-c1a8-d57bafad7635"
      },
      "execution_count": null,
      "outputs": [
        {
          "output_type": "execute_result",
          "data": {
            "text/plain": [
              "10.0"
            ]
          },
          "metadata": {},
          "execution_count": 41
        }
      ]
    },
    {
      "cell_type": "code",
      "source": [],
      "metadata": {
        "id": "nNhGA98tSp6W"
      },
      "execution_count": null,
      "outputs": []
    },
    {
      "cell_type": "markdown",
      "source": [
        "# Entrada de Dados - Função INPUT"
      ],
      "metadata": {
        "id": "_Tm3Ej2jSyrZ"
      }
    },
    {
      "cell_type": "code",
      "source": [
        "input('Insira um número:')"
      ],
      "metadata": {
        "colab": {
          "base_uri": "https://localhost:8080/",
          "height": 54
        },
        "id": "kAgVSSSiS5A8",
        "outputId": "1bd76dfe-4b5c-449e-82c6-9d64ed4e7ea6"
      },
      "execution_count": null,
      "outputs": [
        {
          "name": "stdout",
          "output_type": "stream",
          "text": [
            "Insira um número:50\n"
          ]
        },
        {
          "output_type": "execute_result",
          "data": {
            "text/plain": [
              "'50'"
            ],
            "application/vnd.google.colaboratory.intrinsic+json": {
              "type": "string"
            }
          },
          "metadata": {},
          "execution_count": 42
        }
      ]
    },
    {
      "cell_type": "code",
      "source": [
        "numero = input('Insira um número:')\n",
        "print(numero)"
      ],
      "metadata": {
        "colab": {
          "base_uri": "https://localhost:8080/"
        },
        "id": "SCNNAeQ7S8Cc",
        "outputId": "0badd0e0-90fb-4f8b-c3f3-88205afe8ed6"
      },
      "execution_count": null,
      "outputs": [
        {
          "output_type": "stream",
          "name": "stdout",
          "text": [
            "Insira um número:55\n",
            "55\n"
          ]
        }
      ]
    },
    {
      "cell_type": "code",
      "source": [
        "n1 = input(\"Insira um número:\")\n",
        "n2 = input(\"Insira outro número:\")\n",
        "soma = n1 + n2\n",
        "print(soma)"
      ],
      "metadata": {
        "colab": {
          "base_uri": "https://localhost:8080/"
        },
        "id": "W5EwE-hXTLXs",
        "outputId": "14c9af3b-d1b4-4240-cd2d-fb1b30f5e193"
      },
      "execution_count": null,
      "outputs": [
        {
          "output_type": "stream",
          "name": "stdout",
          "text": [
            "Insira um número:8\n",
            "Insira outro número:5\n",
            "85\n"
          ]
        }
      ]
    },
    {
      "cell_type": "code",
      "source": [],
      "metadata": {
        "id": "DtEFAJqJTecc"
      },
      "execution_count": null,
      "outputs": []
    },
    {
      "cell_type": "markdown",
      "source": [
        "# Conversão de Tipo de Dados\n"
      ],
      "metadata": {
        "id": "gNR_glUQU_2d"
      }
    },
    {
      "cell_type": "code",
      "source": [
        "A = input(\"Digite um número: \")\n",
        "B = input(\"Digite outro número: \")\n",
        "soma = A + B\n",
        "print(\"\\na soma de A e B com tipo string é:\", soma)\n"
      ],
      "metadata": {
        "colab": {
          "base_uri": "https://localhost:8080/"
        },
        "id": "BlboXZ3KV8to",
        "outputId": "0704dc88-fc12-47fa-b53e-44230f2b0d66"
      },
      "execution_count": null,
      "outputs": [
        {
          "output_type": "stream",
          "name": "stdout",
          "text": [
            "Digite um número: 50\n",
            "Digite outro número: 25\n",
            "\n",
            "a soma de A e B com tipo string é: 5025\n"
          ]
        }
      ]
    },
    {
      "cell_type": "code",
      "source": [
        "print(type(A))\n",
        "print(type(B))"
      ],
      "metadata": {
        "colab": {
          "base_uri": "https://localhost:8080/"
        },
        "id": "DQlv6EcyWGNT",
        "outputId": "a0087981-c330-44e8-a844-db4fdd6745cf"
      },
      "execution_count": null,
      "outputs": [
        {
          "output_type": "stream",
          "name": "stdout",
          "text": [
            "<class 'str'>\n",
            "<class 'str'>\n"
          ]
        }
      ]
    },
    {
      "cell_type": "code",
      "source": [
        "A = float (input(\"Digite um número: \"))\n",
        "B = float (input(\"Digite outro número: \"))\n",
        "soma = A + B\n",
        "\n",
        "print(\"\\nA soma de A + B é igual a\", soma)print(ty)"
      ],
      "metadata": {
        "colab": {
          "base_uri": "https://localhost:8080/"
        },
        "id": "RH74pmMWWreo",
        "outputId": "afaab07c-0947-4c55-8b25-762ab07a4828"
      },
      "execution_count": null,
      "outputs": [
        {
          "output_type": "stream",
          "name": "stdout",
          "text": [
            "Digite um número: 25.12\n",
            "Digite outro número: 14.13\n",
            "\n",
            "A soma de A + B é igual a 39.25\n"
          ]
        }
      ]
    },
    {
      "cell_type": "code",
      "source": [
        "print(type(A))\n",
        "print(type(B))"
      ],
      "metadata": {
        "colab": {
          "base_uri": "https://localhost:8080/"
        },
        "id": "0U7HdICCXHzu",
        "outputId": "300c8df9-2f70-4823-b8d4-c502634bf575"
      },
      "execution_count": null,
      "outputs": [
        {
          "output_type": "stream",
          "name": "stdout",
          "text": [
            "<class 'float'>\n",
            "<class 'float'>\n"
          ]
        }
      ]
    },
    {
      "cell_type": "code",
      "source": [
        "nome = input(\"Digite o nome do aluno: \")\n",
        "n1 = int (input(\"Digite a nota 1: \"))\n",
        "n2 = int (input(\"Digite a nota 2: \"))\n",
        "media = (n1 + n2) / 2\n",
        "print(\"\\nNome: \", nome, \"\\nMédia\", media)"
      ],
      "metadata": {
        "colab": {
          "base_uri": "https://localhost:8080/"
        },
        "id": "EZyJBZVtXSiU",
        "outputId": "f7b4a4c6-0b8c-423d-b372-adf60af6f6a7"
      },
      "execution_count": null,
      "outputs": [
        {
          "output_type": "stream",
          "name": "stdout",
          "text": [
            "Digite o nome do aluno: João da Silva\n",
            "Digite a nota 1: 85\n",
            "Digite a nota 2: 35\n",
            "\n",
            "Nome:  João da Silva \n",
            "Média 60.0\n"
          ]
        }
      ]
    },
    {
      "cell_type": "code",
      "source": [
        "print (type(nome))\n",
        "print (type(n1))\n",
        "print (type(n2))\n",
        "print (type(media))\n"
      ],
      "metadata": {
        "colab": {
          "base_uri": "https://localhost:8080/"
        },
        "id": "LDCvokmrXdat",
        "outputId": "925c8422-2358-4f95-a21d-fbb139fcc64b"
      },
      "execution_count": null,
      "outputs": [
        {
          "output_type": "stream",
          "name": "stdout",
          "text": [
            "<class 'str'>\n",
            "<class 'int'>\n",
            "<class 'int'>\n",
            "<class 'float'>\n"
          ]
        }
      ]
    },
    {
      "cell_type": "code",
      "source": [
        "teste = bool (input(\"Digite qualquer coisa:\"))\n",
        "print(teste)"
      ],
      "metadata": {
        "colab": {
          "base_uri": "https://localhost:8080/"
        },
        "id": "fMPCL_HuYGQT",
        "outputId": "1f51ee93-a70f-45f0-f2ea-d70fef6c3cbe"
      },
      "execution_count": null,
      "outputs": [
        {
          "output_type": "stream",
          "name": "stdout",
          "text": [
            "Digite qualquer coisa:123213\n",
            "True\n"
          ]
        }
      ]
    },
    {
      "cell_type": "code",
      "source": [
        "teste2 = bool (input(\"Aperte enter para deixar em branco: \"))\n",
        "print(teste2)"
      ],
      "metadata": {
        "colab": {
          "base_uri": "https://localhost:8080/"
        },
        "id": "ItyXwx7-YxeZ",
        "outputId": "a8086ad0-0ef7-4036-ec38-04b6ff257c8b"
      },
      "execution_count": null,
      "outputs": [
        {
          "output_type": "stream",
          "name": "stdout",
          "text": [
            "Aperte enter para deixar em branco: \n",
            "False\n"
          ]
        }
      ]
    },
    {
      "cell_type": "code",
      "source": [
        "print(type(teste2))"
      ],
      "metadata": {
        "colab": {
          "base_uri": "https://localhost:8080/"
        },
        "id": "UvibY8-bY4_B",
        "outputId": "8ded42af-e851-43f2-9959-65fe2f000499"
      },
      "execution_count": null,
      "outputs": [
        {
          "output_type": "stream",
          "name": "stdout",
          "text": [
            "<class 'bool'>\n"
          ]
        }
      ]
    },
    {
      "cell_type": "code",
      "source": [],
      "metadata": {
        "id": "4jvQ-uTZY-76"
      },
      "execution_count": null,
      "outputs": []
    },
    {
      "cell_type": "markdown",
      "source": [
        "# Exercícios de fixação 1"
      ],
      "metadata": {
        "id": "OvEbFpdsaANg"
      }
    },
    {
      "cell_type": "code",
      "source": [
        "nome = \"Henrique\"\n",
        "idade = 23\n",
        "altura = 1.79\n",
        "print (nome, idade, altura)"
      ],
      "metadata": {
        "colab": {
          "base_uri": "https://localhost:8080/"
        },
        "id": "_idj4OfKaEz3",
        "outputId": "8825adc6-8790-46a2-a387-9a80958a987d"
      },
      "execution_count": null,
      "outputs": [
        {
          "output_type": "stream",
          "name": "stdout",
          "text": [
            "Henrique 23 1.79\n"
          ]
        }
      ]
    },
    {
      "cell_type": "code",
      "source": [
        "adicao = 2 + 5\n",
        "multiplicacao = 2*5\n",
        "divisao = adicao / multiplicacao\n",
        "print(divisao)\n"
      ],
      "metadata": {
        "colab": {
          "base_uri": "https://localhost:8080/"
        },
        "id": "kgJt0mgEaO4A",
        "outputId": "9ee6dc55-7917-42ac-dec9-2a8e760d0f73"
      },
      "execution_count": null,
      "outputs": [
        {
          "output_type": "stream",
          "name": "stdout",
          "text": [
            "0.7\n"
          ]
        }
      ]
    },
    {
      "cell_type": "code",
      "source": [
        "dia = 12\n",
        "mes = \"julho\"\n",
        "ano = 1999\n",
        "print(\"Eu nasci em:\", dia, mes,\"de\", ano)\n"
      ],
      "metadata": {
        "colab": {
          "base_uri": "https://localhost:8080/"
        },
        "id": "G6xiluf3agBj",
        "outputId": "47c7ac25-5770-488f-e499-1a452ee3d9c0"
      },
      "execution_count": null,
      "outputs": [
        {
          "output_type": "stream",
          "name": "stdout",
          "text": [
            "Eu nasci em: 12 julho de 1999\n"
          ]
        }
      ]
    },
    {
      "cell_type": "code",
      "source": [
        "texto = \"Jabuticaba\"\n",
        "numeroInt = 1\n",
        "numeroDec = 0.25\n",
        "VerdadeiroFalso ="
      ],
      "metadata": {
        "id": "vRlVS-WVbSIW"
      },
      "execution_count": null,
      "outputs": []
    },
    {
      "cell_type": "markdown",
      "source": [
        "# Estrutura Condicional Simples\n",
        "\n"
      ],
      "metadata": {
        "id": "NqGhQLzNw_k0"
      }
    },
    {
      "cell_type": "code",
      "source": [
        "valor = int (input(\"Digite um número: \"))\n",
        "\n",
        "if valor > 10:\n",
        "  print(\"O número digitado é maior que 10\")"
      ],
      "metadata": {
        "colab": {
          "base_uri": "https://localhost:8080/"
        },
        "id": "BiDCkWlZxE1J",
        "outputId": "423a5a2f-ecb4-4693-d39e-d773186c446c"
      },
      "execution_count": null,
      "outputs": [
        {
          "name": "stdout",
          "output_type": "stream",
          "text": [
            "Digite um número: 5\n"
          ]
        }
      ]
    },
    {
      "cell_type": "code",
      "source": [
        "condicao = True\n",
        "\n",
        "if condicao != False:\n",
        "  print(\"Essa condição é diferente de false, logo, é verdadeira\")"
      ],
      "metadata": {
        "colab": {
          "base_uri": "https://localhost:8080/"
        },
        "id": "6vQ4GfEFx0i6",
        "outputId": "c77bf70a-acc0-4246-c2ef-dbc936850230"
      },
      "execution_count": null,
      "outputs": [
        {
          "output_type": "stream",
          "name": "stdout",
          "text": [
            "Essa condição é diferente de false, logo, é verdadeira\n"
          ]
        }
      ]
    },
    {
      "cell_type": "markdown",
      "source": [
        "# Estrutura Condicional Composta"
      ],
      "metadata": {
        "id": "HMSMHR-x0f7n"
      }
    },
    {
      "cell_type": "code",
      "source": [
        "cnh = input(\"Sua CNH é do tipo A ou B?\")\n",
        "\n",
        "if cnh == \"A\":\n",
        "  print(\"Sua CNH é de moto\")\n",
        "elif cnh == \"B\":\n",
        "  print(\"Sua CNH é de carro\")"
      ],
      "metadata": {
        "colab": {
          "base_uri": "https://localhost:8080/"
        },
        "id": "hsyX0j0A0h7w",
        "outputId": "fb40fc2d-794c-4ed5-a645-bc87f309bea0"
      },
      "execution_count": null,
      "outputs": [
        {
          "output_type": "stream",
          "name": "stdout",
          "text": [
            "Sua CNH é do tipo A ou B?B\n",
            "Sua CNH é de carro\n"
          ]
        }
      ]
    },
    {
      "cell_type": "code",
      "source": [
        "aluno = input(\"Digite o nome do aluno: \")\n",
        "nota1 = float(input(\"Digite a nota 1: \"))\n",
        "nota2 = float(input(\"Digite a nota 2: \"))\n",
        "mediaFinal = (nota1 + nota2) / 2\n",
        "\n",
        "if mediaFinal > 5:\n",
        "  print(aluno, \"você está APROVADO com\", mediaFinal)\n",
        "elif mediaFinal < 6:\n",
        "  print(aluno, \"voce está REPROVADO com\", mediaFinal)"
      ],
      "metadata": {
        "colab": {
          "base_uri": "https://localhost:8080/"
        },
        "id": "ke73eShN0pS5",
        "outputId": "064b9961-41dd-4cca-f0ca-fb9af1c94f46"
      },
      "execution_count": null,
      "outputs": [
        {
          "output_type": "stream",
          "name": "stdout",
          "text": [
            "Digite o nome do aluno: João Silva\n",
            "Digite a nota 1: 2\n",
            "Digite a nota 2: 3\n",
            "João Silva voce está REPROVADO com 2.5\n"
          ]
        }
      ]
    },
    {
      "cell_type": "code",
      "source": [
        "x = int (input(\"Digite um néumero: \"))\n",
        "\n",
        "if x > 50:\n",
        "  print(\"É maior do que 50\")\n",
        "else:\n",
        "  print(\"Não é maior do que 50\")"
      ],
      "metadata": {
        "colab": {
          "base_uri": "https://localhost:8080/"
        },
        "id": "mOS4Vn1F1i_r",
        "outputId": "d5689829-3527-4250-84b3-c1414042bf83"
      },
      "execution_count": null,
      "outputs": [
        {
          "output_type": "stream",
          "name": "stdout",
          "text": [
            "Digite um néumero: 40\n",
            "Não é maior do que 50\n"
          ]
        }
      ]
    },
    {
      "cell_type": "code",
      "source": [
        "opcao = int(input(\"Digite a opção 1, 2 ou 3: \"))\n",
        "\n",
        "if opcao == 1:\n",
        "  print(\"Você escolheu a opção 1!\")\n",
        "elif opcao == 2:\n",
        "  print(\"Você escolheu a opção 2!\")\n",
        "elif opcao == 3:\n",
        "  print(\"Você escolheu a opção 3!\")\n",
        "else:\n",
        "  print(\"Nenhuma das opções foram digitadas!\")"
      ],
      "metadata": {
        "colab": {
          "base_uri": "https://localhost:8080/"
        },
        "id": "9hbRSZpq2F6f",
        "outputId": "8e52ebea-bf31-4b5d-c81d-9f2ed5594776"
      },
      "execution_count": null,
      "outputs": [
        {
          "output_type": "stream",
          "name": "stdout",
          "text": [
            "Digite a opção 1, 2 ou 3: 4\n",
            "Nenhuma das opções foram digitadas!\n"
          ]
        }
      ]
    },
    {
      "cell_type": "code",
      "source": [],
      "metadata": {
        "id": "6X_IhQ0ljgZB"
      },
      "execution_count": null,
      "outputs": []
    },
    {
      "cell_type": "markdown",
      "source": [
        "# Comparações com Estruturas Condicionais"
      ],
      "metadata": {
        "id": "Pyke-RWFji6e"
      }
    },
    {
      "cell_type": "code",
      "source": [
        "num1 = float(input(\"Digite um número: \"))\n",
        "num2 = float(input(\"Digite outro número: \"))\n",
        "op = input(\"Digite a operação desejada: +. -, *,/ \")\n",
        "\n",
        "if op == \"+\":\n",
        "  resultado = num1 + num2\n",
        "elif op == \"-\":\n",
        "  resultado = num1 - num2\n",
        "elif op == \"*\":\n",
        "  resultado = num1 * num2\n",
        "elif op == \"/\":\n",
        "  resultado = num1 / num2\n",
        "\n",
        "print(\"\\nO resultado é: \", resultado)\n"
      ],
      "metadata": {
        "colab": {
          "base_uri": "https://localhost:8080/"
        },
        "id": "rpnvoFQCjl6T",
        "outputId": "d8c37f7f-f396-4e2a-f706-9552b166e2b3"
      },
      "execution_count": null,
      "outputs": [
        {
          "output_type": "stream",
          "name": "stdout",
          "text": [
            "Digite um número: 1550\n",
            "Digite outro número: 500\n",
            "Digite a operação desejada: +. -, *,/ -\n",
            "\n",
            "O resultado é:  1050.0\n"
          ]
        }
      ]
    },
    {
      "cell_type": "markdown",
      "source": [
        "# Operadores lógicos\n"
      ],
      "metadata": {
        "id": "UgoIkpJxlUrM"
      }
    },
    {
      "cell_type": "code",
      "source": [
        "x = True\n",
        "y = True\n",
        "\n",
        "if (x == True & y == True):\n",
        "  print(\"Correto. Todos os valores são verdadeiros.\")\n",
        "else:\n",
        "  print(\"Errado. Há algum valor falso na expressão.\")"
      ],
      "metadata": {
        "colab": {
          "base_uri": "https://localhost:8080/"
        },
        "id": "8-liw5QLlchb",
        "outputId": "35ac9cf3-ed60-494f-9ce1-737b30e99946"
      },
      "execution_count": null,
      "outputs": [
        {
          "output_type": "stream",
          "name": "stdout",
          "text": [
            "Correto. Todos os valores são verdadeiros.\n"
          ]
        }
      ]
    },
    {
      "cell_type": "code",
      "source": [
        "( 8 > 10 ) & ( 18 == 19)"
      ],
      "metadata": {
        "colab": {
          "base_uri": "https://localhost:8080/"
        },
        "id": "6dI_LmIemsHF",
        "outputId": "1c3b4d3b-cf54-4b0f-8538-fc171cfe6993"
      },
      "execution_count": null,
      "outputs": [
        {
          "output_type": "execute_result",
          "data": {
            "text/plain": [
              "False"
            ]
          },
          "metadata": {},
          "execution_count": 8
        }
      ]
    },
    {
      "cell_type": "code",
      "source": [
        "not ( 8 > 7)"
      ],
      "metadata": {
        "colab": {
          "base_uri": "https://localhost:8080/"
        },
        "id": "KzFgP_twm1s0",
        "outputId": "5dfa7014-8280-4878-8986-147df8ce0960"
      },
      "execution_count": null,
      "outputs": [
        {
          "output_type": "execute_result",
          "data": {
            "text/plain": [
              "False"
            ]
          },
          "metadata": {},
          "execution_count": 10
        }
      ]
    },
    {
      "cell_type": "code",
      "source": [
        "( 25 > 20 ) or (8 != 8)"
      ],
      "metadata": {
        "colab": {
          "base_uri": "https://localhost:8080/"
        },
        "id": "713-GQ8Om9Nk",
        "outputId": "e826d81e-e58c-4830-de9b-8a66b148db8c"
      },
      "execution_count": null,
      "outputs": [
        {
          "output_type": "execute_result",
          "data": {
            "text/plain": [
              "True"
            ]
          },
          "metadata": {},
          "execution_count": 12
        }
      ]
    },
    {
      "cell_type": "markdown",
      "source": [
        "# Método FORMAT"
      ],
      "metadata": {
        "id": "7sJY7SkjnJ-A"
      }
    },
    {
      "cell_type": "code",
      "source": [
        "nome = input(\"Digite o seu nome: \")\n",
        "dia = int(input(\"QUal dia você nasceu? \"))\n",
        "mes = int(input(\"Qual mês você nasceu? \"))\n",
        "ano = int(input(\"Qual o ano você nasceu? \"))\n",
        "cidade = input(\"Qual cidade você nasceu? \")\n",
        "\n",
        "print(\"\\nOlá\", nome, \", você nasceu em\" ,cidade, \"no dia\", dia, \"/\", mes, \"/\", ano)\n"
      ],
      "metadata": {
        "colab": {
          "base_uri": "https://localhost:8080/"
        },
        "id": "eKsiObGlnLcE",
        "outputId": "56ec3591-02bb-47ca-e66b-e6c7a8e6714f"
      },
      "execution_count": null,
      "outputs": [
        {
          "output_type": "stream",
          "name": "stdout",
          "text": [
            "Digite o seu nome: Henrique Leunam\n",
            "QUal dia você nasceu? 12\n",
            "Qual mês você nasceu? 07\n",
            "Qual o ano você nasceu? 1999\n",
            "Qual cidade você nasceu? São Paulo\n",
            "\n",
            "Olá Henrique Leunam , você nasceu em São Paulo no dia 12 / 7 / 1999\n"
          ]
        }
      ]
    },
    {
      "cell_type": "code",
      "source": [
        "nome = input(\"Digite o seu nome: \")\n",
        "dia = int(input(\"QUal dia você nasceu? \"))\n",
        "mes = int(input(\"Qual mês você nasceu? \"))\n",
        "ano = int(input(\"Qual o ano você nasceu? \"))\n",
        "cidade = input(\"Qual cidade você nasceu? \")\n",
        "\n",
        "print(\"\\nOlá {}, você nasceu na cidade {}, no dia {}/{}/{}\".format(nome, cidade, dia, mes, ano))\n"
      ],
      "metadata": {
        "colab": {
          "base_uri": "https://localhost:8080/"
        },
        "id": "h_JSJbxjoOOF",
        "outputId": "876b953c-6f19-44ef-ec31-931bbd4bd996"
      },
      "execution_count": null,
      "outputs": [
        {
          "output_type": "stream",
          "name": "stdout",
          "text": [
            "Digite o seu nome: Henrique Leunam\n",
            "QUal dia você nasceu? 12\n",
            "Qual mês você nasceu? 07\n",
            "Qual o ano você nasceu? 1999\n",
            "Qual cidade você nasceu? São Paulo\n",
            "\n",
            "Olá Henrique Leunam, você nasceu na cidade São Paulo, no dia 12/7/1999\n"
          ]
        }
      ]
    },
    {
      "cell_type": "code",
      "source": [
        "valor = 4.6521452\n",
        "print(\"Valor arredondado: {:.2f}\".format(valor))"
      ],
      "metadata": {
        "colab": {
          "base_uri": "https://localhost:8080/"
        },
        "id": "eXTZp9qCpMTg",
        "outputId": "71c698af-39fb-428a-dad6-bf5934f8791f"
      },
      "execution_count": null,
      "outputs": [
        {
          "output_type": "stream",
          "name": "stdout",
          "text": [
            "Valor arredondado: 4.65\n"
          ]
        }
      ]
    },
    {
      "cell_type": "code",
      "source": [],
      "metadata": {
        "id": "xNfZ8LfNpXio"
      },
      "execution_count": null,
      "outputs": []
    },
    {
      "cell_type": "markdown",
      "source": [
        "# Exercícios de Fixação 2"
      ],
      "metadata": {
        "id": "3uyJV8zo0-R1"
      }
    },
    {
      "cell_type": "code",
      "source": [
        "numero = input(\"Digite o número desejado: \")\n",
        "\n",
        "impar = True\n",
        "Par = False\n",
        "\n",
        "if impar = True\n",
        "  print(\"O número digitado é impar: \")\n",
        "else:\n",
        "  print(\"O número digitado é par: \")\n"
      ],
      "metadata": {
        "id": "E5DfjLDH1AzZ"
      },
      "execution_count": null,
      "outputs": []
    },
    {
      "cell_type": "markdown",
      "source": [
        "# Laços de Repetição - FOR e ELSE\n"
      ],
      "metadata": {
        "id": "r7D0Km9Cd52n"
      }
    },
    {
      "cell_type": "code",
      "source": [
        "lista = [10, \"ovo\", 30, \"tomate\"]\n",
        "\n",
        "for i in lista:\n",
        "    print(i)"
      ],
      "metadata": {
        "colab": {
          "base_uri": "https://localhost:8080/"
        },
        "id": "9yDedHGEd-gN",
        "outputId": "02ef5da1-7611-4704-8217-322c0532a71e"
      },
      "execution_count": null,
      "outputs": [
        {
          "output_type": "stream",
          "name": "stdout",
          "text": [
            "10\n",
            "ovo\n",
            "30\n",
            "tomate\n"
          ]
        }
      ]
    },
    {
      "cell_type": "code",
      "source": [
        "frutas = [\"abacaxi\", \"morango\", \"uva\",\"melancia\", \"mamão\",\"maracujá\"]\n",
        "\n",
        "for k in frutas:\n",
        "    print(k)"
      ],
      "metadata": {
        "colab": {
          "base_uri": "https://localhost:8080/"
        },
        "id": "QrN88nRgensS",
        "outputId": "e1ad485b-0652-4a95-d9fb-1111cbe87c51"
      },
      "execution_count": null,
      "outputs": [
        {
          "output_type": "stream",
          "name": "stdout",
          "text": [
            "abacaxi\n",
            "morango\n",
            "uva\n",
            "melancia\n",
            "mamão\n",
            "maracujá\n"
          ]
        }
      ]
    },
    {
      "cell_type": "code",
      "source": [
        "times = [\"Atlético Mg\", \"São Paulo\", \"Ceará\", \"Fortaleza\",\"Spot\",\"Grêmio\"]\n",
        "\n",
        "for x in times:\n",
        "    print(x)\n",
        "else:\n",
        "    print(\"Todos os itens da lista foram inpressos!\")"
      ],
      "metadata": {
        "colab": {
          "base_uri": "https://localhost:8080/"
        },
        "id": "993jgZ1Deygw",
        "outputId": "8e3bfa01-d669-448e-a8a9-a2975265860b"
      },
      "execution_count": null,
      "outputs": [
        {
          "output_type": "stream",
          "name": "stdout",
          "text": [
            "Atlético Mg\n",
            "São Paulo\n",
            "Ceará\n",
            "Fortaleza\n",
            "Spot\n",
            "Grêmio\n",
            "Todos os itens da lista foram inpressos!\n"
          ]
        }
      ]
    },
    {
      "cell_type": "code",
      "source": [],
      "metadata": {
        "id": "eWvw97DTe_D1"
      },
      "execution_count": null,
      "outputs": []
    },
    {
      "cell_type": "markdown",
      "source": [
        "# Laço de Repetição - WHILE"
      ],
      "metadata": {
        "id": "a8mgSKBUfYBB"
      }
    },
    {
      "cell_type": "code",
      "source": [
        "iteracoes = 1\n",
        "\n",
        "while (iteracoes < 11):\n",
        "  print(iteracoes)\n",
        "  iteracoes = iteracoes + 1"
      ],
      "metadata": {
        "id": "zKUYGYlGfael"
      },
      "execution_count": null,
      "outputs": []
    },
    {
      "cell_type": "code",
      "source": [
        "resposta = \"sim\"\n",
        "\n",
        "while (resposta == \"sim\"):\n",
        "  print(\"Você pode escrever?\")\n",
        "  resposta = input(\"Digite sim ou não: \").lower()\n",
        "\n",
        "if (resposta == \"não\"):\n",
        "  print(\"Tudo bem. Código encerrado\")"
      ],
      "metadata": {
        "colab": {
          "base_uri": "https://localhost:8080/"
        },
        "id": "4EZASn9tgn8u",
        "outputId": "544a2e7b-674c-4875-afb2-dda93aece63d"
      },
      "execution_count": null,
      "outputs": [
        {
          "output_type": "stream",
          "name": "stdout",
          "text": [
            "Você pode escrever?\n",
            "Digite sim ou não: não\n",
            "Tudo bem. Código encerrado\n"
          ]
        }
      ]
    },
    {
      "cell_type": "code",
      "source": [
        "nome = \"PythoN\".lower()\n",
        "print(nome)"
      ],
      "metadata": {
        "colab": {
          "base_uri": "https://localhost:8080/"
        },
        "id": "uM4f8eVggycC",
        "outputId": "a6b386f1-ab46-41ce-d6fc-a94f12cfb035"
      },
      "execution_count": null,
      "outputs": [
        {
          "output_type": "stream",
          "name": "stdout",
          "text": [
            "python\n"
          ]
        }
      ]
    },
    {
      "cell_type": "code",
      "source": [
        "nome.upper()"
      ],
      "metadata": {
        "colab": {
          "base_uri": "https://localhost:8080/",
          "height": 36
        },
        "id": "ZtBAhU4WhFSw",
        "outputId": "5dabf744-1cdf-40a7-b361-73dd439319c8"
      },
      "execution_count": null,
      "outputs": [
        {
          "output_type": "execute_result",
          "data": {
            "text/plain": [
              "'PYTHON'"
            ],
            "application/vnd.google.colaboratory.intrinsic+json": {
              "type": "string"
            }
          },
          "metadata": {},
          "execution_count": 14
        }
      ]
    },
    {
      "cell_type": "code",
      "source": [
        "\"matheus\".upper()"
      ],
      "metadata": {
        "colab": {
          "base_uri": "https://localhost:8080/",
          "height": 36
        },
        "id": "3dsTJEdChNwZ",
        "outputId": "626f943e-9fb3-4717-a45a-98e03aa51397"
      },
      "execution_count": null,
      "outputs": [
        {
          "output_type": "execute_result",
          "data": {
            "text/plain": [
              "'MATHEUS'"
            ],
            "application/vnd.google.colaboratory.intrinsic+json": {
              "type": "string"
            }
          },
          "metadata": {},
          "execution_count": 16
        }
      ]
    },
    {
      "cell_type": "code",
      "source": [
        "\"matheus\".islower()"
      ],
      "metadata": {
        "colab": {
          "base_uri": "https://localhost:8080/"
        },
        "id": "dT15IOJohQ4f",
        "outputId": "f5701e31-d2e3-449d-83d1-f810d8d9e3d4"
      },
      "execution_count": null,
      "outputs": [
        {
          "output_type": "execute_result",
          "data": {
            "text/plain": [
              "True"
            ]
          },
          "metadata": {},
          "execution_count": 17
        }
      ]
    },
    {
      "cell_type": "code",
      "source": [
        "\"Matheus\".islower()"
      ],
      "metadata": {
        "colab": {
          "base_uri": "https://localhost:8080/"
        },
        "id": "R9oP_Ju1hXog",
        "outputId": "103a4d0c-f9bc-4d32-a534-d5ddf0487168"
      },
      "execution_count": null,
      "outputs": [
        {
          "output_type": "execute_result",
          "data": {
            "text/plain": [
              "False"
            ]
          },
          "metadata": {},
          "execution_count": 18
        }
      ]
    },
    {
      "cell_type": "code",
      "source": [
        "\"MATHEUS\".isupper()"
      ],
      "metadata": {
        "colab": {
          "base_uri": "https://localhost:8080/"
        },
        "id": "Vdy0109AhbAX",
        "outputId": "a1bcac52-8739-4885-d62e-40f93992c1ae"
      },
      "execution_count": null,
      "outputs": [
        {
          "output_type": "execute_result",
          "data": {
            "text/plain": [
              "True"
            ]
          },
          "metadata": {},
          "execution_count": 19
        }
      ]
    },
    {
      "cell_type": "code",
      "source": [],
      "metadata": {
        "id": "nVKSPE03heXI"
      },
      "execution_count": null,
      "outputs": []
    },
    {
      "cell_type": "markdown",
      "source": [
        "# Laço de Repetição - While e ELSE"
      ],
      "metadata": {
        "id": "qqOoeH95hg5M"
      }
    },
    {
      "cell_type": "code",
      "source": [
        "caractere = bool (input(\"Digite qualquer caractere: \"))  # Para deixar vazio, tecle ENTER\n",
        "\n",
        "while (caractere == True):\n",
        "  print(\"Pelo menos um caractere foi inserido\")\n",
        "  break\n",
        "else:\n",
        "  print(\"Nenhum caractere foi inserido\")"
      ],
      "metadata": {
        "colab": {
          "base_uri": "https://localhost:8080/"
        },
        "id": "r4KWawf7hkN3",
        "outputId": "27811150-2140-42cb-e4b1-90598c3e35ab"
      },
      "execution_count": null,
      "outputs": [
        {
          "output_type": "stream",
          "name": "stdout",
          "text": [
            "Digite qualquer caractere: A\n",
            "Pelo menos um caractere foi inserido\n"
          ]
        }
      ]
    },
    {
      "cell_type": "code",
      "source": [],
      "metadata": {
        "id": "hCYhfAanoDsT"
      },
      "execution_count": null,
      "outputs": []
    },
    {
      "cell_type": "markdown",
      "source": [
        "# Estrutura Aninhadas"
      ],
      "metadata": {
        "id": "PsHN3YI5oSJO"
      }
    },
    {
      "cell_type": "code",
      "source": [
        "# Estruturas aninhadas acontecem quando temos duas condições uma em baixo da outra\n"
      ],
      "metadata": {
        "id": "fCDFicGfoUTV"
      },
      "execution_count": null,
      "outputs": []
    },
    {
      "cell_type": "code",
      "source": [
        "idade = int(input(\"Digite sua idade: \"))\n",
        "sexo = input(\"Digite o seu sexo: masculino ou feminino: \").lower()\n",
        "\n",
        "#bloco 1\n",
        "if (sexo == \"masculino\"):\n",
        "  #bloco 1.1\n",
        "  if(idade >= 18):\n",
        "    print(\"Homem maior de idade\")\n",
        "  else:\n",
        "    print(\"Homem menor de idade\")\n",
        "#bloco 2\n",
        "elif (sexo == \"feminino\"):\n",
        "  #bloco 2.1\n",
        "  if(idade >= 18):\n",
        "    print(\"Mulher maior de idade\")\n",
        "  else:\n",
        "    print(\"Mulher menor de idade\")\n",
        "#bloco 3\n",
        "else:\n",
        "  print(\"Sexo inválido\")\n"
      ],
      "metadata": {
        "colab": {
          "base_uri": "https://localhost:8080/"
        },
        "id": "S6gEKWR6ocoq",
        "outputId": "df94d408-24f1-4a37-ee67-29cf2e04e752"
      },
      "execution_count": null,
      "outputs": [
        {
          "output_type": "stream",
          "name": "stdout",
          "text": [
            "Digite sua idade: 18\n",
            "Digite o seu sexo: masculino ou feminino: masculino\n",
            "Homem maior de idade\n"
          ]
        }
      ]
    },
    {
      "cell_type": "markdown",
      "source": [
        "# Introdução as Listas\n"
      ],
      "metadata": {
        "id": "OhWc8B8Fm-R8"
      }
    },
    {
      "cell_type": "code",
      "source": [
        "ExemploLista = [\"A\",\"B\",\"C\",\"D\"]\n",
        "print(ExemploLista)"
      ],
      "metadata": {
        "colab": {
          "base_uri": "https://localhost:8080/"
        },
        "id": "A6aVV43FnB6I",
        "outputId": "90316862-4871-4847-d04d-9a0cf7141439"
      },
      "execution_count": null,
      "outputs": [
        {
          "output_type": "stream",
          "name": "stdout",
          "text": [
            "['A', 'B', 'C', 'D']\n"
          ]
        }
      ]
    },
    {
      "cell_type": "code",
      "source": [
        "lista = [\"ovo\", 1.34, 10, True]\n",
        "print(lista)"
      ],
      "metadata": {
        "colab": {
          "base_uri": "https://localhost:8080/"
        },
        "id": "znwZeU2opAFG",
        "outputId": "537c1c04-4175-40b2-b91f-c35a15bbcb7a"
      },
      "execution_count": null,
      "outputs": [
        {
          "output_type": "stream",
          "name": "stdout",
          "text": [
            "['ovo', 1.34, 10, True]\n"
          ]
        }
      ]
    },
    {
      "cell_type": "code",
      "source": [
        "lista[2] # O número da posição dos elementos de uma lista inicia no \"0\""
      ],
      "metadata": {
        "colab": {
          "base_uri": "https://localhost:8080/"
        },
        "id": "aJ1NrO02pKrE",
        "outputId": "20686193-0ed8-42e2-9d2d-ec06ffbfb179"
      },
      "execution_count": null,
      "outputs": [
        {
          "output_type": "execute_result",
          "data": {
            "text/plain": [
              "10"
            ]
          },
          "metadata": {},
          "execution_count": 4
        }
      ]
    },
    {
      "cell_type": "code",
      "source": [
        "lista[0]"
      ],
      "metadata": {
        "colab": {
          "base_uri": "https://localhost:8080/",
          "height": 36
        },
        "id": "ngSc1KoJpUMs",
        "outputId": "9c8c76d9-46ba-42aa-bcf6-277e3db4f750"
      },
      "execution_count": null,
      "outputs": [
        {
          "output_type": "execute_result",
          "data": {
            "text/plain": [
              "'ovo'"
            ],
            "application/vnd.google.colaboratory.intrinsic+json": {
              "type": "string"
            }
          },
          "metadata": {},
          "execution_count": 5
        }
      ]
    },
    {
      "cell_type": "code",
      "source": [
        "print(lista)"
      ],
      "metadata": {
        "colab": {
          "base_uri": "https://localhost:8080/"
        },
        "id": "hyaxaVl6pcw8",
        "outputId": "70c1e214-1a88-4394-a594-53e9634ce5fc"
      },
      "execution_count": null,
      "outputs": [
        {
          "output_type": "stream",
          "name": "stdout",
          "text": [
            "['ovo', 1.34, 10, True]\n"
          ]
        }
      ]
    },
    {
      "cell_type": "code",
      "source": [
        "lista[1] = \"batatinha\" #substituir valor na lista\n",
        "print(lista)"
      ],
      "metadata": {
        "colab": {
          "base_uri": "https://localhost:8080/"
        },
        "id": "C1w3X6fbpf47",
        "outputId": "b1295588-eb00-4d91-9448-6db5440e2150"
      },
      "execution_count": null,
      "outputs": [
        {
          "output_type": "stream",
          "name": "stdout",
          "text": [
            "['ovo', 'batatinha', 10, True]\n"
          ]
        }
      ]
    },
    {
      "cell_type": "code",
      "source": [
        "carros = [\"Gol\",\"Jaguar\",\"Palio\",\"Fox\",\"Celta\"]\n",
        "\n",
        "print(carros[-2])\n",
        "print(carros[-4])"
      ],
      "metadata": {
        "colab": {
          "base_uri": "https://localhost:8080/"
        },
        "id": "CSMnS8wkpkzb",
        "outputId": "f4d05e64-9d30-4fe3-bfa4-652b835b66f8"
      },
      "execution_count": null,
      "outputs": [
        {
          "output_type": "stream",
          "name": "stdout",
          "text": [
            "Fox\n",
            "Jaguar\n"
          ]
        }
      ]
    },
    {
      "cell_type": "code",
      "source": [
        "numeros = [1, 2, 3, 4, 5]\n",
        "\n",
        "for x in numeros:\n",
        "  print(x)"
      ],
      "metadata": {
        "colab": {
          "base_uri": "https://localhost:8080/"
        },
        "id": "N_Ykk88AqCcG",
        "outputId": "b8b9d40d-5d99-400f-845d-dbfaf7f34fc6"
      },
      "execution_count": null,
      "outputs": [
        {
          "output_type": "stream",
          "name": "stdout",
          "text": [
            "1\n",
            "2\n",
            "3\n",
            "4\n",
            "5\n"
          ]
        }
      ]
    },
    {
      "cell_type": "code",
      "source": [
        "lista1 = [\"papel\", \"uva\", False, 1.90]\n",
        "lista2 = [\"notebook\",\"bolacha\",\"garrafa\", 5231]\n",
        "concatenar = lista1 + lista2\n",
        "\n",
        "print(concatenar)"
      ],
      "metadata": {
        "colab": {
          "base_uri": "https://localhost:8080/"
        },
        "id": "lrMQLyjBqHrK",
        "outputId": "87b9febb-6ebd-4191-9ac5-4cc9afac8237"
      },
      "execution_count": null,
      "outputs": [
        {
          "output_type": "stream",
          "name": "stdout",
          "text": [
            "['papel', 'uva', False, 1.9, 'notebook', 'bolacha', 'garrafa', 5231]\n"
          ]
        }
      ]
    },
    {
      "cell_type": "code",
      "source": [
        "print(\"uva\" in concatenar) # Verificar se o valor uva consta na lista de \"concatenar\""
      ],
      "metadata": {
        "colab": {
          "base_uri": "https://localhost:8080/"
        },
        "id": "pb9F3vGnqbOR",
        "outputId": "00baff2f-fa98-4759-fcdb-f7eed3a90254"
      },
      "execution_count": null,
      "outputs": [
        {
          "output_type": "stream",
          "name": "stdout",
          "text": [
            "True\n"
          ]
        }
      ]
    },
    {
      "cell_type": "code",
      "source": [
        "print(\"maça\" in concatenar) # Verificar se o valor maça consta na lista de \"concatenar\""
      ],
      "metadata": {
        "colab": {
          "base_uri": "https://localhost:8080/"
        },
        "id": "pS8qMZqRqeGJ",
        "outputId": "f416c529-4aa6-4431-da53-9633909ec3ce"
      },
      "execution_count": null,
      "outputs": [
        {
          "output_type": "stream",
          "name": "stdout",
          "text": [
            "False\n"
          ]
        }
      ]
    },
    {
      "cell_type": "code",
      "source": [
        "letras = [\"A\",\"B\",\"C\",\"D\",\"E\",\"F\",\"G\"]\n",
        "\n",
        "print(letras[:3]) #Retorna somente três elementos da lista.\n",
        "print(letras[:]) # Retorna a impressão da lista inteira.\n",
        "print(letras[2:]) #Retorna a impressão do segundo elemento até o final.\n",
        "print(letras[2:5]) #Retorna a impressão dos valores entre um intervalo."
      ],
      "metadata": {
        "colab": {
          "base_uri": "https://localhost:8080/"
        },
        "id": "MIKEL95yqhxp",
        "outputId": "6cf61ca4-0322-4f1a-b1c9-68559cb99876"
      },
      "execution_count": null,
      "outputs": [
        {
          "output_type": "stream",
          "name": "stdout",
          "text": [
            "['A', 'B', 'C']\n",
            "['A', 'B', 'C', 'D', 'E', 'F', 'G']\n",
            "['C', 'D', 'E', 'F', 'G']\n",
            "['C', 'D', 'E']\n"
          ]
        }
      ]
    },
    {
      "cell_type": "markdown",
      "source": [
        "# Métodos de Listas - APPEND, INDEX, INSERT, REMOVE\n"
      ],
      "metadata": {
        "id": "VN1iNTj_rOkN"
      }
    },
    {
      "cell_type": "code",
      "source": [
        "lista = []\n",
        "\n",
        "lista.append(\"arroz\")\n",
        "lista.append(3.14)\n",
        "lista.append(True)\n",
        "lista.append(3*4)\n",
        "\n",
        "print(lista)"
      ],
      "metadata": {
        "colab": {
          "base_uri": "https://localhost:8080/"
        },
        "id": "Cu7I9kMqrX7l",
        "outputId": "add1d562-0890-4f59-9d2b-d9e17bbf4386"
      },
      "execution_count": null,
      "outputs": [
        {
          "output_type": "stream",
          "name": "stdout",
          "text": [
            "['arroz', 3.14, True, 12]\n"
          ]
        }
      ]
    },
    {
      "cell_type": "code",
      "source": [
        "numeros = []\n",
        "contador = 0\n",
        "\n",
        "while contador < 4:\n",
        "  x = int(input(\"Digite um número: \"))\n",
        "  numeros.append(x)\n",
        "  contador+= 1\n",
        "  print(numeros)"
      ],
      "metadata": {
        "colab": {
          "base_uri": "https://localhost:8080/"
        },
        "id": "MU00wHahs-YX",
        "outputId": "d14424ea-f01c-4d9b-cef3-c16c28443ac7"
      },
      "execution_count": null,
      "outputs": [
        {
          "output_type": "stream",
          "name": "stdout",
          "text": [
            "Digite um número: 1\n",
            "[1]\n",
            "Digite um número: 2\n",
            "[1, 2]\n",
            "Digite um número: 3\n",
            "[1, 2, 3]\n",
            "Digite um número: 4\n",
            "[1, 2, 3, 4]\n"
          ]
        }
      ]
    },
    {
      "cell_type": "code",
      "source": [
        "print(lista)"
      ],
      "metadata": {
        "colab": {
          "base_uri": "https://localhost:8080/"
        },
        "id": "U5qR-pBItRJD",
        "outputId": "601f29ef-9809-4f44-98be-ce071a74e8dc"
      },
      "execution_count": null,
      "outputs": [
        {
          "output_type": "stream",
          "name": "stdout",
          "text": [
            "['arroz', 3.14, True, 12]\n"
          ]
        }
      ]
    },
    {
      "cell_type": "code",
      "source": [
        "lista.index(\"arroz\")"
      ],
      "metadata": {
        "colab": {
          "base_uri": "https://localhost:8080/"
        },
        "id": "UOJvyjlTtX5L",
        "outputId": "0525a482-d349-448b-faef-0fb2d016ea50"
      },
      "execution_count": null,
      "outputs": [
        {
          "output_type": "execute_result",
          "data": {
            "text/plain": [
              "0"
            ]
          },
          "metadata": {},
          "execution_count": 27
        }
      ]
    },
    {
      "cell_type": "code",
      "source": [
        "lista.index(3.14)"
      ],
      "metadata": {
        "colab": {
          "base_uri": "https://localhost:8080/"
        },
        "id": "DY1EjT-Ctgnl",
        "outputId": "eb55e909-b633-4bff-c964-45d6efa9c555"
      },
      "execution_count": null,
      "outputs": [
        {
          "output_type": "execute_result",
          "data": {
            "text/plain": [
              "1"
            ]
          },
          "metadata": {},
          "execution_count": 28
        }
      ]
    },
    {
      "cell_type": "code",
      "source": [
        "print(lista)"
      ],
      "metadata": {
        "colab": {
          "base_uri": "https://localhost:8080/"
        },
        "id": "_-HcOf80tp-e",
        "outputId": "7e3be0cf-7b75-4a5e-c2c5-d0495883e2d5"
      },
      "execution_count": null,
      "outputs": [
        {
          "output_type": "stream",
          "name": "stdout",
          "text": [
            "['arroz', 3.14, True, 12]\n"
          ]
        }
      ]
    },
    {
      "cell_type": "code",
      "source": [
        "print(lista)\n",
        "lista.insert(2,\"garrafa\")\n",
        "print(lista)"
      ],
      "metadata": {
        "colab": {
          "base_uri": "https://localhost:8080/"
        },
        "id": "aBwFdNWFuTgm",
        "outputId": "e6db3149-c1da-430d-a87f-93f1f4250231"
      },
      "execution_count": null,
      "outputs": [
        {
          "output_type": "stream",
          "name": "stdout",
          "text": [
            "['arroz', 'garrafa', 'garrafa', True, 12]\n",
            "['arroz', 'garrafa', 'garrafa', 'garrafa', True, 12]\n"
          ]
        }
      ]
    },
    {
      "cell_type": "code",
      "source": [
        "print(lista)\n",
        "lista.remove(\"arroz\")\n",
        "\n",
        "print(lista)"
      ],
      "metadata": {
        "colab": {
          "base_uri": "https://localhost:8080/"
        },
        "id": "GN2TSp5Pt0ey",
        "outputId": "b0416161-5e82-4364-9d8e-009f771b842f"
      },
      "execution_count": null,
      "outputs": [
        {
          "output_type": "stream",
          "name": "stdout",
          "text": [
            "['arroz', 'garrafa', 'garrafa', 'garrafa', True, 12]\n",
            "['garrafa', 'garrafa', 'garrafa', True, 12]\n"
          ]
        }
      ]
    },
    {
      "cell_type": "code",
      "source": [],
      "metadata": {
        "id": "FnEoEULOt8yS"
      },
      "execution_count": null,
      "outputs": []
    },
    {
      "cell_type": "markdown",
      "source": [
        "# Introdução as Bibliotecas\n"
      ],
      "metadata": {
        "id": "XhhIeIsWCfe7"
      }
    },
    {
      "cell_type": "code",
      "source": [
        "import keyword\n",
        "print(keyword.kwlist) #Comando para exibir todos os valores proibidos do Phyton."
      ],
      "metadata": {
        "colab": {
          "base_uri": "https://localhost:8080/"
        },
        "id": "EoOmFHJWCiwX",
        "outputId": "45f441b3-aae6-49dc-afff-da98d7042b7f"
      },
      "execution_count": 2,
      "outputs": [
        {
          "output_type": "stream",
          "name": "stdout",
          "text": [
            "['False', 'None', 'True', 'and', 'as', 'assert', 'async', 'await', 'break', 'class', 'continue', 'def', 'del', 'elif', 'else', 'except', 'finally', 'for', 'from', 'global', 'if', 'import', 'in', 'is', 'lambda', 'nonlocal', 'not', 'or', 'pass', 'raise', 'return', 'try', 'while', 'with', 'yield']\n"
          ]
        }
      ]
    },
    {
      "cell_type": "code",
      "source": [
        "dir(keyword) #Comando para exibir todas as funções disponíveis de uma tabela."
      ],
      "metadata": {
        "colab": {
          "base_uri": "https://localhost:8080/"
        },
        "id": "ssjHp47eCjma",
        "outputId": "a5753318-7c61-4598-d559-e705f3563bf1"
      },
      "execution_count": 3,
      "outputs": [
        {
          "output_type": "execute_result",
          "data": {
            "text/plain": [
              "['__all__',\n",
              " '__builtins__',\n",
              " '__cached__',\n",
              " '__doc__',\n",
              " '__file__',\n",
              " '__loader__',\n",
              " '__name__',\n",
              " '__package__',\n",
              " '__spec__',\n",
              " 'iskeyword',\n",
              " 'issoftkeyword',\n",
              " 'kwlist',\n",
              " 'softkwlist']"
            ]
          },
          "metadata": {},
          "execution_count": 3
        }
      ]
    },
    {
      "cell_type": "code",
      "source": [
        "import time\n",
        "\n"
      ],
      "metadata": {
        "id": "Ysuxn_HMC1fN"
      },
      "execution_count": null,
      "outputs": []
    }
  ]
}